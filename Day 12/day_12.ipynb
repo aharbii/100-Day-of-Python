{
 "cells": [
  {
   "cell_type": "markdown",
   "metadata": {},
   "source": [
    "# 100 Days of Code\n",
    "## Day 12 : Scopes and Numebr Guessing Game"
   ]
  },
  {
   "cell_type": "markdown",
   "metadata": {},
   "source": [
    "# End of the Day\n",
    "====================================="
   ]
  },
  {
   "cell_type": "code",
   "execution_count": null,
   "metadata": {},
   "outputs": [],
   "source": [
    "################### Scope ####################\n",
    "\n",
    "enemies = 1\n",
    "\n",
    "def increase_enemies():\n",
    "    enemies = 2\n",
    "    print(f\"enemies inside function: {enemies}\")\n",
    "\n",
    "increase_enemies()\n",
    "print(f\"enemies outside function: {enemies}\")\n",
    "\n",
    "# Local Scope\n",
    "\n",
    "def drink_potion():\n",
    "    potion_strength = 2\n",
    "    print(potion_strength)\n",
    "\n",
    "drink_potion()\n",
    "print(potion_strength)\n",
    "\n",
    "# Global Scope\n",
    "player_health = 10\n",
    "\n",
    "def game():\n",
    "    def drink_potion():\n",
    "        potion_strength = 2\n",
    "        print(player_health)\n",
    "\n",
    "    drink_potion()\n",
    "\n",
    "print(player_health)\n",
    "\n",
    "# There is no Block Scope\n",
    "\n",
    "game_level = 3\n",
    "\n",
    "def create_enemy():\n",
    "    enemies = [\"Skeleton\", \"Zombie\", \"Alien\"]\n",
    "    if game_level < 5:\n",
    "        new_enemy = enemies[0]\n",
    "\n",
    "    print(new_enemy)\n",
    "\n",
    "\n",
    "# Modifying Global Scope\n",
    "\n",
    "enemies = 1\n",
    "\n",
    "def increase_enemies():\n",
    "    print(f\"enemies inside function: {enemies}\")\n",
    "    return enemies + 1\n",
    "\n",
    "enemies = increase_enemies()\n",
    "print(f\"enemies outside function: {enemies}\")\n",
    "\n",
    "#Global Constants\n",
    "\n",
    "PI = 3.14159\n",
    "URL = \"https://www.google.com\"\n",
    "TWITTER_HANDLE = \"@yu_angela\""
   ]
  }
 ],
 "metadata": {
  "language_info": {
   "name": "python"
  },
  "orig_nbformat": 4
 },
 "nbformat": 4,
 "nbformat_minor": 2
}
