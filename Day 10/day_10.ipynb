{
 "cells": [
  {
   "cell_type": "markdown",
   "metadata": {},
   "source": [
    "# 100 Days of Code\n",
    "## Day 10 : Functions with Output"
   ]
  },
  {
   "cell_type": "markdown",
   "metadata": {},
   "source": [
    "## Days in Month\n",
    "\n",
    "# Instructions\n",
    "\n",
    "\n",
    "In the starting code, you'll find the solution from the Leap Year challenge. First, convert this function `is_leap()` so that instead of printing \"Leap year.\" or \"Not leap year.\" it should **return** `True` if it is a leap year and **return** `False` if it is not a leap year.\n",
    "\n",
    "You are then going to create a function called `days_in_month()` which will take a **year** and a **month** as inputs, e.g.\n",
    "\n",
    "```\n",
    "days_in_month(year=2022, month=2)\n",
    "```\n",
    "\n",
    "And it will use this information to work out the **number of days in the month**, then **return** that as the **output**, **e.g.:**\n",
    "\n",
    "```\n",
    "28\n",
    "```\n",
    "\n",
    "The List month_days contains the number of days in a month from January to December for a non-leap year. A leap year has 29 days in February.\n",
    "\n",
    "# Hint\n",
    "\n",
    "1. Look at the function call at the bottom of the code to see the positional arguments.  The order is very important.\n",
    "\n",
    "2. Feel free to choose your own parameter names.\n",
    "\n",
    "3. Remember that `month_days` is a List and Lists in Python start at position 0. So the number of days in January is `month_days[0]`\n",
    "\n",
    "4. Be careful with indentation.\n",
    "\n",
    "# Test Your Code\n",
    "\n",
    "Before checking the solution, try copy-pasting your code into this repl: \n",
    "\n",
    "[https://repl.it/@appbrewery/day-10-1-test-your-code]([https://repl.it/@appbrewery/day-10-1-test-your-code])\n",
    "\n",
    "This repl includes my testing code that will check if your code meets this assignment's objectives. \n",
    "\n",
    "\n",
    "# Solution\n",
    "\n",
    "[https://repl.it/@appbrewery/day-10-1-solution](https://repl.it/@appbrewery/day-10-1-solution)"
   ]
  },
  {
   "cell_type": "code",
   "execution_count": null,
   "metadata": {},
   "outputs": [],
   "source": [
    "def is_leap(year):\n",
    "  if year % 4 == 0:\n",
    "    if year % 100 == 0:\n",
    "      if year % 400 == 0:\n",
    "        return True\n",
    "      else:\n",
    "        return False\n",
    "    else:\n",
    "      return True\n",
    "  else:\n",
    "    return False\n",
    "\n",
    "def days_in_month(year, month):\n",
    "  month_days = [31, 28, 31, 30, 31, 30, 31, 31, 30, 31, 30, 31]\n",
    "\n",
    "  if is_leap(year):\n",
    "    month_days[1] = 29\n",
    "  \n",
    "  return month_days[month-1]\n",
    "\n",
    "  \n",
    "  \n",
    "#🚨 Do NOT change any of the code below \n",
    "year = int(input(\"Enter a year: \"))\n",
    "month = int(input(\"Enter a month: \"))\n",
    "days = days_in_month(year, month)\n",
    "print(days)"
   ]
  },
  {
   "cell_type": "markdown",
   "metadata": {},
   "source": [
    "# End of the Day\n",
    "====================================="
   ]
  },
  {
   "cell_type": "code",
   "execution_count": 8,
   "metadata": {},
   "outputs": [
    {
     "name": "stdout",
     "output_type": "stream",
     "text": [
      "You did not entered valid answer.\n"
     ]
    }
   ],
   "source": [
    "#Functions with Outputs\n",
    "def format_name(f_name, l_name):\n",
    "  if f_name == \"\" or l_name == \"\":\n",
    "    return \"You didn't provide valid inputs.\"\n",
    "  formated_f_name = f_name.title()\n",
    "  formated_l_name = l_name.title()\n",
    "  f\"Result: {formated_f_name} {formated_l_name}\"\n",
    "\n",
    "#Storing output in a variable\n",
    "formatted_name = format_name(input(\"Your first name: \"), input(\"Your last name: \"))\n",
    "print(formatted_name)\n",
    "#or printing output directly\n",
    "print(format_name(input(\"What is your first name? \"), input(\"What is your last name? \")))\n",
    "\n",
    "#Already used functions with outputs.\n",
    "length = len(formatted_name)\n",
    "\n",
    "#Return as an early exit\n",
    "def format_name(f_name, l_name):\n",
    "  \"\"\"Take a first and last name and format it \n",
    "  to return the title case version of the name.\"\"\"\n",
    "  if f_name == \"\" or l_name == \"\":\n",
    "    return \"You didn't provide valid inputs.\"\n",
    "  formated_f_name = f_name.title()\n",
    "  formated_l_name = l_name.title()\n",
    "  return f\"Result: {formated_f_name} {formated_l_name}\"\n",
    "\n"
   ]
  }
 ],
 "metadata": {
  "interpreter": {
   "hash": "c6e4e9f98eb68ad3b7c296f83d20e6de614cb42e90992a65aa266555a3137d0d"
  },
  "kernelspec": {
   "display_name": "Python 3.9.7 64-bit ('base': conda)",
   "language": "python",
   "name": "python3"
  },
  "language_info": {
   "codemirror_mode": {
    "name": "ipython",
    "version": 3
   },
   "file_extension": ".py",
   "mimetype": "text/x-python",
   "name": "python",
   "nbconvert_exporter": "python",
   "pygments_lexer": "ipython3",
   "version": "3.9.7"
  },
  "orig_nbformat": 4
 },
 "nbformat": 4,
 "nbformat_minor": 2
}
