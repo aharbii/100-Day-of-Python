{
 "cells": [
  {
   "cell_type": "code",
   "execution_count": 2,
   "metadata": {},
   "outputs": [],
   "source": [
    "import random\n",
    "import turtle as t\n",
    "import colorgram\n",
    "\n",
    "tim = t.Turtle()\n",
    "t.colormode(255)\n",
    "\n",
    "\n",
    "def random_color():\n",
    "    R = random.randint(0, 255)\n",
    "    B = random.randint(0, 255)\n",
    "    G = random.randint(0, 255)\n",
    "    color = (R, G, B)\n",
    "    return color\n",
    "\n",
    "\n",
    "tim.speed(\"fastest\")\n",
    "\n",
    "\n",
    "def draw_spirograph(size_of_gap):\n",
    "    for i in range(int(360 / size_of_gap)):\n",
    "        tim.color(random_color())\n",
    "        tim.circle(100)\n",
    "        current_heading = tim.heading()\n",
    "        tim.setheading(current_heading + size_of_gap)\n",
    "\n",
    "\n",
    "draw_spirograph(5)\n",
    "\n",
    "screen = t.Screen()\n",
    "screen.exitonclick()\n"
   ]
  },
  {
   "cell_type": "code",
   "execution_count": null,
   "metadata": {},
   "outputs": [],
   "source": []
  }
 ],
 "metadata": {
  "interpreter": {
   "hash": "c6e4e9f98eb68ad3b7c296f83d20e6de614cb42e90992a65aa266555a3137d0d"
  },
  "kernelspec": {
   "display_name": "Python 3.9.9 64-bit ('base': conda)",
   "language": "python",
   "name": "python3"
  },
  "language_info": {
   "codemirror_mode": {
    "name": "ipython",
    "version": 3
   },
   "file_extension": ".py",
   "mimetype": "text/x-python",
   "name": "python",
   "nbconvert_exporter": "python",
   "pygments_lexer": "ipython3",
   "version": "3.9.9"
  },
  "orig_nbformat": 4
 },
 "nbformat": 4,
 "nbformat_minor": 2
}
