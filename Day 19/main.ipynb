{
 "cells": [
  {
   "cell_type": "code",
   "execution_count": 1,
   "metadata": {},
   "outputs": [],
   "source": [
    "from operator import imod\n",
    "from shutil import move\n",
    "from turtle import Turtle, Screen\n",
    "\n",
    "tim = Turtle()\n",
    "screen = Screen()\n",
    "\n",
    "\n",
    "def move_forwards():\n",
    "    tim.forward(10)\n",
    "\n",
    "\n",
    "def move_backwars():\n",
    "    tim.back(10)\n",
    "\n",
    "\n",
    "def rotate_clockwise():\n",
    "    tim.right(int(360/12))\n",
    "\n",
    "\n",
    "def rotate_counter_clockwise():\n",
    "    tim.left(int(360/12))\n",
    "\n",
    "\n",
    "def clear():\n",
    "    tim.clear()\n",
    "    tim.penup()\n",
    "    tim.home()\n",
    "    tim.pendown()\n",
    "\n",
    "\n",
    "screen.listen()\n",
    "screen.onkey(key=\"w\", fun=move_forwards)\n",
    "screen.onkey(key=\"s\", fun=move_backwars)\n",
    "screen.onkey(key=\"a\", fun=rotate_counter_clockwise)\n",
    "screen.onkey(key=\"d\", fun=rotate_clockwise)\n",
    "screen.onkey(clear, \"c\")\n",
    "\n",
    "screen.exitonclick()\n"
   ]
  },
  {
   "cell_type": "code",
   "execution_count": null,
   "metadata": {},
   "outputs": [],
   "source": []
  }
 ],
 "metadata": {
  "interpreter": {
   "hash": "c6e4e9f98eb68ad3b7c296f83d20e6de614cb42e90992a65aa266555a3137d0d"
  },
  "kernelspec": {
   "display_name": "Python 3.9.9 64-bit ('base': conda)",
   "language": "python",
   "name": "python3"
  },
  "language_info": {
   "codemirror_mode": {
    "name": "ipython",
    "version": 3
   },
   "file_extension": ".py",
   "mimetype": "text/x-python",
   "name": "python",
   "nbconvert_exporter": "python",
   "pygments_lexer": "ipython3",
   "version": "3.9.9"
  },
  "orig_nbformat": 4
 },
 "nbformat": 4,
 "nbformat_minor": 2
}
