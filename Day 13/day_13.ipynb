{
 "cells": [
  {
   "cell_type": "markdown",
   "metadata": {},
   "source": [
    "# 100 Days of Code\n",
    "## Day 13 : Debugging"
   ]
  },
  {
   "cell_type": "markdown",
   "metadata": {},
   "source": [
    "1. Describe the problem\n",
    "2. Reproduce the bug.\n",
    "3. Play computer.\n",
    "4. Fix errors.\n",
    "5. Print is your friend.\n",
    "6. Use a debugger."
   ]
  },
  {
   "cell_type": "code",
   "execution_count": null,
   "metadata": {},
   "outputs": [],
   "source": [
    "###########DEBUGGING#####################\n",
    "\n",
    "# Describe Problem\n",
    "def my_function():\n",
    "  for i in range(1, 21):\n",
    "    if i == 20:\n",
    "      print(\"You got it\")\n",
    "my_function()\n",
    "\n",
    "# Reproduce the Bug\n",
    "from random import randint\n",
    "dice_imgs = [\"❶\", \"❷\", \"❸\", \"❹\", \"❺\", \"❻\"]\n",
    "dice_num = randint(0, 5)\n",
    "print(dice_imgs[dice_num])\n",
    "\n",
    "# Play Computer\n",
    "year = int(input(\"What's your year of birth?\"))\n",
    "if year > 1980 and year < 1994:\n",
    "  print(\"You are a millenial.\")\n",
    "elif year >= 1994:\n",
    "  print(\"You are a Gen Z.\")\n",
    "\n",
    "# Fix the Errors\n",
    "age = int(input(\"How old are you?\"))\n",
    "if age > 18:\n",
    "    print(f\"You can drive at age {age}.\")\n",
    "\n",
    "#Print is Your Friend\n",
    "pages = 0\n",
    "word_per_page = 0\n",
    "pages = int(input(\"Number of pages: \"))\n",
    "word_per_page = int(input(\"Number of words per page: \"))\n",
    "total_words = pages * word_per_page\n",
    "print(total_words)\n",
    "\n",
    "#Use a Debugger\n",
    "def mutate(a_list):\n",
    "  b_list = []\n",
    "  for item in a_list:\n",
    "    new_item = item * 2\n",
    "    b_list.append(new_item)\n",
    "  print(b_list)\n",
    "\n",
    "mutate([1,2,3,5,8,13])"
   ]
  }
 ],
 "metadata": {
  "language_info": {
   "name": "python"
  },
  "orig_nbformat": 4
 },
 "nbformat": 4,
 "nbformat_minor": 2
}
