{
 "cells": [
  {
   "cell_type": "markdown",
   "metadata": {},
   "source": [
    "# 100 Days of Code - Day 2"
   ]
  },
  {
   "cell_type": "markdown",
   "metadata": {},
   "source": [
    "## Variables\n",
    "\n",
    "# Instructions\n",
    "\n",
    "Write a program that switches the values stored in the variables a and b. \n",
    "\n",
    "**Warning.** Do not change the code on lines 1-4 and 13-18. Your program should work for different inputs. e.g. any value of a and b.\n",
    "\n",
    "# Example Input\n",
    "\n",
    "```\n",
    "a: 3\n",
    "```\n",
    "\n",
    "```\n",
    "b: 5\n",
    "```\n",
    "\n",
    "# Example Output\n",
    "\n",
    "```\n",
    "a: 5\n",
    "```\n",
    "\n",
    "```\n",
    "b: 3\n",
    "```\n",
    "\n",
    "e.g. When you hit **run**, this is what should happen:\n",
    "\n",
    "![](https://cdn.fs.teachablecdn.com/tgdNl0iSqK6RpPyYZh9d)\n",
    "\n",
    "# Hint\n",
    "\n",
    "1. You should not have to type any numbers in your code. \n",
    "2. You might need to make some more variables.\n",
    "\n",
    "# Test Your Code\n",
    "\n",
    "Before checking the solution, try copy-pasting your code into this repl: \n",
    "\n",
    "[https://repl.it/@appbrewery/day-1-4-test-your-code]([https://repl.it/@appbrewery/day-1-4-test-your-code])\n",
    "\n",
    "This repl includes my testing code that will check if your code meets this assignment's objectives. \n",
    "\n",
    "\n",
    "\n",
    "\n",
    "# Solution\n",
    "\n",
    "[https://repl.it/@appbrewery/day-1-4-solution](https://repl.it/@appbrewery/day-1-4-solution)"
   ]
  },
  {
   "cell_type": "code",
   "execution_count": 1,
   "metadata": {},
   "outputs": [
    {
     "name": "stdout",
     "output_type": "stream",
     "text": [
      "a: 3\n",
      "b: 1\n"
     ]
    }
   ],
   "source": [
    "# 🚨 Don't change the code below 👇\n",
    "a = input(\"a: \")\n",
    "b = input(\"b: \")\n",
    "# 🚨 Don't change the code above 👆\n",
    "\n",
    "####################################\n",
    "#First *fork* your copy. Then copy-paste your code below this line 👇\n",
    "#Finally click \"Run\" to execute the tests\n",
    "\n",
    "c = a\n",
    "a = b\n",
    "b = c\n",
    "\n",
    "#Write your code above this line 👆\n",
    "####################################\n",
    "\n",
    "# 🚨 Don't change the code below 👇\n",
    "print(\"a: \" + a)\n",
    "print(\"b: \" + b)"
   ]
  },
  {
   "cell_type": "markdown",
   "metadata": {},
   "source": [
    "## Inputs\n",
    "\n",
    "# Instructions\n",
    "\n",
    "Write a program that prints the number of characters in a user's name. You might need to Google for a function that calculates the length of a string. \n",
    "\n",
    "e.g.\n",
    "\n",
    "[https://www.google.com/search?q=how+to+get+the+length+of+a+string+in+python+stack+overflow](https://www.google.com/search?sxsrf=ACYBGNRxEaJIWyKHuWI0Lk24t4KuZVyeew:1579706585702&q=how+to+get+the+length+of+a+string+in+python+stack+overflow)\n",
    "\n",
    "**Warning.** Your program should work for different inputs. e.g. any name that you input.\n",
    "\n",
    "# Example Input\n",
    "\n",
    "```\n",
    "Angela\n",
    "```\n",
    "\n",
    "# Example Output\n",
    "\n",
    "```\n",
    "6\n",
    "```\n",
    "\n",
    "e.g. When you hit **run**, this is what should happen:\n",
    "\n",
    "![](https://cdn.fs.teachablecdn.com/opevxYZSTM2ZHjbAX3XV) \n",
    "\n",
    "# Hint\n",
    "\n",
    "1. You can put functions inside other functions.\n",
    "2. Don't try to print anything other than the length.\n",
    "\n",
    "# Test Your Code\n",
    "\n",
    "Before checking the solution, try copy-pasting your code into this repl: \n",
    "\n",
    "[https://repl.it/@appbrewery/day-1-3-test-your-code]([https://repl.it/@appbrewery/day-1-3-test-your-code])\n",
    "\n",
    "This repl includes my testing code that will check if your code meets this assignment's objectives. \n",
    "\n",
    "\n",
    "\n",
    "# Solution\n",
    "\n",
    "[https://repl.it/@appbrewery/day-1-3-solution](https://repl.it/@appbrewery/day-1-3-solution)"
   ]
  },
  {
   "cell_type": "code",
   "execution_count": null,
   "metadata": {},
   "outputs": [],
   "source": [
    "#First *fork* your copy. Then copy-paste your code below this line 👇\n",
    "#Finally click \"Run\" to execute the tests\n",
    "\n",
    "user_name = input(\"Enter Your Name:   \")\n",
    "print(len(user_name))\n",
    "\n",
    "#Write your code above this line 👆"
   ]
  },
  {
   "cell_type": "markdown",
   "metadata": {},
   "source": [
    "# End of the Day\n",
    "====================================="
   ]
  },
  {
   "cell_type": "code",
   "execution_count": null,
   "metadata": {},
   "outputs": [],
   "source": [
    "name = \"Jack\"\n",
    "print(name)\n",
    "\n",
    "name = \"Angela\"\n",
    "print(name)\n",
    "\n",
    "\n",
    "name = input(\"What is your name?\")\n",
    "length = len(name)\n",
    "print(length)"
   ]
  }
 ],
 "metadata": {
  "interpreter": {
   "hash": "c6e4e9f98eb68ad3b7c296f83d20e6de614cb42e90992a65aa266555a3137d0d"
  },
  "kernelspec": {
   "display_name": "Python 3.9.7 64-bit ('base': conda)",
   "language": "python",
   "name": "python3"
  },
  "language_info": {
   "codemirror_mode": {
    "name": "ipython",
    "version": 3
   },
   "file_extension": ".py",
   "mimetype": "text/x-python",
   "name": "python",
   "nbconvert_exporter": "python",
   "pygments_lexer": "ipython3",
   "version": "3.9.7"
  },
  "orig_nbformat": 4
 },
 "nbformat": 4,
 "nbformat_minor": 2
}
